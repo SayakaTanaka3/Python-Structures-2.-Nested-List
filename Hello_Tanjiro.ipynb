{
 "cells": [
  {
   "cell_type": "markdown",
   "id": "92191bad-deb8-4637-8a78-0b587915dbca",
   "metadata": {},
   "source": [
    "# Title"
   ]
  },
  {
   "cell_type": "markdown",
   "id": "601f76cf-8b6d-4c74-abf1-1cbca212dcea",
   "metadata": {},
   "source": [
    "## Heading"
   ]
  },
  {
   "cell_type": "markdown",
   "id": "358d03ef-062d-4258-b159-89745045e634",
   "metadata": {},
   "source": [
    "Some text"
   ]
  },
  {
   "cell_type": "code",
   "execution_count": null,
   "id": "69ee8ea6-465e-4bfb-b383-f9815969e23a",
   "metadata": {},
   "outputs": [],
   "source": [
    "\n",
    "print('Hello World')"
   ]
  },
  {
   "cell_type": "code",
   "execution_count": 6,
   "id": "8885c647-e39b-47cd-979c-bf829dfee732",
   "metadata": {},
   "outputs": [
    {
     "name": "stdout",
     "output_type": "stream",
     "text": [
      "doing some data science\n"
     ]
    }
   ],
   "source": [
    "print(\"doing some data science\")"
   ]
  },
  {
   "cell_type": "code",
   "execution_count": 9,
   "id": "ebeadf8d-1ae8-4094-a0c9-efb2d17fbe96",
   "metadata": {},
   "outputs": [
    {
     "data": {
      "text/plain": [
       "False"
      ]
     },
     "execution_count": 9,
     "metadata": {},
     "output_type": "execute_result"
    }
   ],
   "source": [
    "1 == 2 "
   ]
  },
  {
   "cell_type": "code",
   "execution_count": 1,
   "id": "8da99558-689b-4676-b015-2fe7f90bcb47",
   "metadata": {},
   "outputs": [
    {
     "name": "stdin",
     "output_type": "stream",
     "text": [
      "what is you name?: Tanjiro\n"
     ]
    }
   ],
   "source": [
    "name_1 = input(\"what is you name?:\")"
   ]
  },
  {
   "cell_type": "code",
   "execution_count": 2,
   "id": "de83e602-8731-4db4-bf29-f6273c4b5703",
   "metadata": {},
   "outputs": [
    {
     "data": {
      "text/plain": [
       "'TanjiroKamado'"
      ]
     },
     "execution_count": 2,
     "metadata": {},
     "output_type": "execute_result"
    }
   ],
   "source": [
    "\"Tanjiro\" + \"Kamado\""
   ]
  },
  {
   "cell_type": "code",
   "execution_count": 3,
   "id": "4bec9ae5-9392-48b9-b7d2-90e4467a2f5a",
   "metadata": {},
   "outputs": [
    {
     "data": {
      "text/plain": [
       "'Tanjiro Kamado'"
      ]
     },
     "execution_count": 3,
     "metadata": {},
     "output_type": "execute_result"
    }
   ],
   "source": [
    "'Tanjiro' + ' ' + 'Kamado'"
   ]
  },
  {
   "cell_type": "code",
   "execution_count": 4,
   "id": "17c5f34b-6f78-4755-8dbb-23f0fbdf026a",
   "metadata": {},
   "outputs": [
    {
     "name": "stdout",
     "output_type": "stream",
     "text": [
      "This is a sample\n"
     ]
    },
    {
     "name": "stdin",
     "output_type": "stream",
     "text": [
      "What is your name? Tanjiro Kamado\n"
     ]
    },
    {
     "name": "stdout",
     "output_type": "stream",
     "text": [
      "the name you entered is Tanjiro Kamado.\n"
     ]
    }
   ],
   "source": [
    "def get_name():\n",
    "    name = input(\"What is your name?\")\n",
    "    print(\"the name you entered is\", name + \".\")\n",
    "print(\"This is a sample\")\n",
    "get_name()"
   ]
  },
  {
   "cell_type": "code",
   "execution_count": 5,
   "id": "39f82ebf-9c7c-49d6-be11-5b6b2581be2e",
   "metadata": {},
   "outputs": [],
   "source": [
    "def add_numbers():\n",
    "    num1=input(\"Enter a number:\")\n",
    "    num2=input(\"Enter a second number:\")\n",
    "    num3=int(num1)+int(num2)\n",
    "    return num3"
   ]
  },
  {
   "cell_type": "code",
   "execution_count": 23,
   "id": "9841baea-c5cd-47ef-bdd3-a035bac76cef",
   "metadata": {},
   "outputs": [
    {
     "name": "stdout",
     "output_type": "stream",
     "text": [
      "Welcome to the magic\n"
     ]
    },
    {
     "name": "stdin",
     "output_type": "stream",
     "text": [
      "Enter a number: 1\n",
      "Enter a second number: 2\n",
      "Enter a number: 3\n",
      "Enter a second number: 4\n"
     ]
    },
    {
     "name": "stdout",
     "output_type": "stream",
     "text": [
      "10\n"
     ]
    }
   ],
   "source": [
    "print(\"Welcome to the magic\")\n",
    "num4 = add_numbers()\n",
    "num5 = add_numbers()\n",
    "print(num4+num5)"
   ]
  },
  {
   "cell_type": "code",
   "execution_count": 26,
   "id": "ad9c6b6e-396c-4738-a84d-d13852c151e2",
   "metadata": {},
   "outputs": [],
   "source": [
    "def format_name(name_input):\n",
    "    print(\"the name you enter is\" , name_input + \".\")\n",
    "\n",
    "    #def format_name(name_input):\n",
    "    #print(\"the name you enter is\" , name_input + \".\")\n",
    "        "
   ]
  },
  {
   "cell_type": "code",
   "execution_count": 8,
   "id": "7c090d41-077e-4120-baf5-2056a78b9fe3",
   "metadata": {},
   "outputs": [
    {
     "name": "stdin",
     "output_type": "stream",
     "text": [
      "What is your name?: Tanjiro\n",
      "what is your age?: 16\n"
     ]
    },
    {
     "name": "stdout",
     "output_type": "stream",
     "text": [
      "the name you enter is Tanjiro. You are 16 years old.\n"
     ]
    }
   ],
   "source": [
    "def format_name(name_input, age_input):\n",
    "    print(\"the name you enter is\" , name_input + \". You are\", age_input, \"years old.\")\n",
    "\n",
    "name1 = input(\"What is your name?:\")\n",
    "age1=input(\"what is your age?:\")\n",
    "format_name(name1, age1)"
   ]
  },
  {
   "cell_type": "code",
   "execution_count": 10,
   "id": "7873f468-3b97-4576-aaf7-22c56ce5e6c7",
   "metadata": {},
   "outputs": [
    {
     "name": "stdin",
     "output_type": "stream",
     "text": [
      "Give your Yell string: Ah\n"
     ]
    },
    {
     "name": "stdout",
     "output_type": "stream",
     "text": [
      "Ah\n"
     ]
    }
   ],
   "source": [
    "def yell_this(words_to_yell):\n",
    "    print(words_to_yell)\n",
    "\n",
    "yell_string = input(\"Give your Yell string:\")\n",
    "yell_this(yell_string)\n"
   ]
  },
  {
   "cell_type": "code",
   "execution_count": 34,
   "id": "13051a49-b83e-4781-be42-64aed95c8abb",
   "metadata": {},
   "outputs": [],
   "source": [
    "## A bit inportant... Maintain sequence of parameters"
   ]
  },
  {
   "cell_type": "code",
   "execution_count": 40,
   "id": "7ae40e37-1e71-434d-ae8c-3e104cfe36ee",
   "metadata": {},
   "outputs": [
    {
     "name": "stdout",
     "output_type": "stream",
     "text": [
      "let's go let's go\n"
     ]
    },
    {
     "data": {
      "text/plain": [
       "str"
      ]
     },
     "execution_count": 40,
     "metadata": {},
     "output_type": "execute_result"
    }
   ],
   "source": [
    "def msg_double(phrase):            #scope.. cannot use out side of function of this scope\n",
    "    double = phrase + \" \"+phrase\n",
    "    return double\n",
    "\n",
    "msg_2x = msg_double(\"let's go\")\n",
    "print(msg_2x)\n",
    "\n",
    "type(msg_double(\"let's go\")) #Print type"
   ]
  },
  {
   "cell_type": "code",
   "execution_count": 11,
   "id": "b095d480-5a23-4456-a358-d62551763e63",
   "metadata": {},
   "outputs": [
    {
     "name": "stdin",
     "output_type": "stream",
     "text": [
      "Input your doctor's name: Shinobu Kochou\n"
     ]
    },
    {
     "name": "stdout",
     "output_type": "stream",
     "text": [
      "Shinobu Kochou\n"
     ]
    }
   ],
   "source": [
    "def make_doctor(name):\n",
    "    print(name)\n",
    "full_name = input(\"Input your doctor's name:\")\n",
    "make_doctor(full_name)"
   ]
  },
  {
   "cell_type": "code",
   "execution_count": null,
   "id": "3b036fa0-e45e-4b35-ac83-b7605fa07eb2",
   "metadata": {},
   "outputs": [],
   "source": []
  },
  {
   "cell_type": "code",
   "execution_count": null,
   "id": "49498af4-74f8-4064-b94b-4315318d17b2",
   "metadata": {},
   "outputs": [],
   "source": []
  },
  {
   "cell_type": "code",
   "execution_count": null,
   "id": "2a022770-cebb-477d-95f9-e9a629d8ca73",
   "metadata": {},
   "outputs": [],
   "source": []
  },
  {
   "cell_type": "code",
   "execution_count": null,
   "id": "32650c44-9834-4f76-9817-55f36e1cd3ae",
   "metadata": {},
   "outputs": [],
   "source": []
  },
  {
   "cell_type": "code",
   "execution_count": null,
   "id": "75d2d620-fb14-4478-b1d5-b454424b7a00",
   "metadata": {},
   "outputs": [],
   "source": []
  },
  {
   "cell_type": "code",
   "execution_count": null,
   "id": "f47e5cdd-8d60-4c4d-b012-7870350f5177",
   "metadata": {},
   "outputs": [],
   "source": []
  },
  {
   "cell_type": "code",
   "execution_count": null,
   "id": "937d5f68-bba4-4e6e-8594-69d2b1d17dd3",
   "metadata": {},
   "outputs": [],
   "source": []
  }
 ],
 "metadata": {
  "kernelspec": {
   "display_name": "Python 3 (ipykernel)",
   "language": "python",
   "name": "python3"
  },
  "language_info": {
   "codemirror_mode": {
    "name": "ipython",
    "version": 3
   },
   "file_extension": ".py",
   "mimetype": "text/x-python",
   "name": "python",
   "nbconvert_exporter": "python",
   "pygments_lexer": "ipython3",
   "version": "3.11.7"
  }
 },
 "nbformat": 4,
 "nbformat_minor": 5
}
