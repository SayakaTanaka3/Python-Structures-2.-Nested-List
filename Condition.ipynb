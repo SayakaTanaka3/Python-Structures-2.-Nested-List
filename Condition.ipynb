{
 "cells": [
  {
   "cell_type": "code",
   "execution_count": 11,
   "id": "38d558f6-670d-43bc-9289-1b811f7f1e5e",
   "metadata": {},
   "outputs": [
    {
     "name": "stdout",
     "output_type": "stream",
     "text": [
      "Tanjiro was promoted from Mizunoto to Kanoe.\n"
     ]
    }
   ],
   "source": [
    "\"\"\"\n",
    "demonSlayerCorps with scores of 95 or higher get Kinoe,\n",
    "demonSlayerCorps with scores of 90 or higher get Kinoto,\n",
    "demonSlayerCorps with scores of 85 or higher get Hinoe,\n",
    "demonSlayerCorps with scores of 80 or higher get Hinoto,\n",
    "demonSlayerCorps with scores of 75 or higher get Tsuchinoe,\n",
    "demonSlayerCorps with scores of 70 or higher get Tsuchinoto,\n",
    "demonSlayerCorps with scores of 65 or higher get Kanoe,\n",
    "demonSlayerCorps with scores of 60 or higher get Kanoto,\n",
    "demonSlayerCorps with scores of 55 or higher get Mizunoe,\n",
    "demonSlayerCorps with scores of 50 or higher get Mizunoto. \"\"\"\n",
    "\n",
    "def rank(score):\n",
    "\n",
    "    if score >=95:\n",
    "        rank = \"Kinoe\"\n",
    "    elif score >= 90:\n",
    "        rank = \"Kinoto\"\n",
    "    elif score >= 85:\n",
    "        rank = \"Hinoe\"\n",
    "    elif score >= 80:\n",
    "        rank = \"Hinoto\"\n",
    "    elif score >= 75:\n",
    "        rank = \"Tsuchinoe\"\n",
    "    elif score > 70:\n",
    "        rank = \"Tsuchinoto\"\n",
    "    elif score >= 65:\n",
    "        rank = \"Kanoe\"\n",
    "    elif score >= 60:\n",
    "        rank = \"Kanoto\"\n",
    "    elif score >= 55:\n",
    "        rank = \"Mizunoe\"\n",
    "    elif score >= 50:    \n",
    "        rank = \"Mizunoto\"\n",
    "    else:\n",
    "        rank = \"Practice hard for the next exam.\"\n",
    "    return rank\n",
    "\n",
    "print(f\"Tanjiro was promoted from {rank(50)} to {rank(70)}.\")"
   ]
  },
  {
   "cell_type": "code",
   "execution_count": 13,
   "id": "950b2963-fdbb-4a28-88c2-8398a9642050",
   "metadata": {},
   "outputs": [
    {
     "name": "stdout",
     "output_type": "stream",
     "text": [
      "Kanao was promoted from Mizunoe to Tsuchinoe.\n"
     ]
    }
   ],
   "source": [
    "print(f\"Kanao was promoted from {rank(55)} to {rank(75)}.\")"
   ]
  },
  {
   "cell_type": "code",
   "execution_count": 14,
   "id": "4342ccf1-a412-4582-bd48-4412fdd1fd46",
   "metadata": {},
   "outputs": [
    {
     "name": "stdout",
     "output_type": "stream",
     "text": [
      "Hashira's ranking is Kinoe.\n"
     ]
    }
   ],
   "source": [
    "print(f\"Hashira's ranking is {rank(95)}.\")"
   ]
  },
  {
   "cell_type": "code",
   "execution_count": 19,
   "id": "5bea3f8e-c276-4c55-a469-5243d6e41341",
   "metadata": {},
   "outputs": [
    {
     "name": "stdout",
     "output_type": "stream",
     "text": [
      "You are promoted to Hashira!\n"
     ]
    }
   ],
   "source": [
    "defeatedNumberOfDemons = 55 \n",
    "score = 96 \n",
    "\n",
    "if score >=90:\n",
    "    if defeatedNumberOfDemons >= 50 and score >= 95:\n",
    "        print(\"You are promoted to Hashira!\")\n",
    "    else:\n",
    "        print(\"You are getting close to promotion!\")"
   ]
  },
  {
   "cell_type": "code",
   "execution_count": 21,
   "id": "4ff43849-bc65-4e82-919f-65ca24b8cda4",
   "metadata": {},
   "outputs": [
    {
     "name": "stdout",
     "output_type": "stream",
     "text": [
      "SakonjiUrokodaki\n",
      "KanaeKocho\n",
      "ShinjiroRengoku\n",
      "JigoroKuwajima\n",
      "TengenUzui\n"
     ]
    }
   ],
   "source": [
    "retiredHashira = ['SakonjiUrokodaki','KanaeKocho','ShinjiroRengoku','JigoroKuwajima','TengenUzui']\n",
    "for retired in retiredHashira:\n",
    "    print(retired)"
   ]
  },
  {
   "cell_type": "code",
   "execution_count": 22,
   "id": "e5edb73e-c9d9-4485-ac53-999949419c21",
   "metadata": {},
   "outputs": [],
   "source": [
    "retiredHashira = ['SakonjiUrokodaki','KanaeKocho','ShinjiroRengoku','JigoroKuwajima','TengenUzui']\n",
    "for retired in retiredHashira:\n",
    "    if len(retired) > 10:\n",
    "        retiredHashira.remove(retired)"
   ]
  },
  {
   "cell_type": "code",
   "execution_count": 24,
   "id": "b0d0d974-ce85-4ba8-adf8-659cba043dd8",
   "metadata": {},
   "outputs": [
    {
     "name": "stdout",
     "output_type": "stream",
     "text": [
      "['JigoroKuwajima', 'KanaeKocho', 'SakonjiUrokodaki', 'ShinjiroRengoku', 'TengenUzui']\n"
     ]
    }
   ],
   "source": [
    "retiredHashira = ['SakonjiUrokodaki','KanaeKocho','ShinjiroRengoku','JigoroKuwajima','TengenUzui']\n",
    "retiredHashira.sort()\n",
    "print(retiredHashira)"
   ]
  },
  {
   "cell_type": "code",
   "execution_count": 26,
   "id": "06cc8a35-c039-4930-9a3a-8226c790fe1d",
   "metadata": {},
   "outputs": [
    {
     "name": "stdout",
     "output_type": "stream",
     "text": [
      "['TengenUzui', 'ShinjiroRengoku', 'SakonjiUrokodaki', 'KanaeKocho', 'JigoroKuwajima']\n"
     ]
    }
   ],
   "source": [
    "retiredHashira = ['SakonjiUrokodaki','KanaeKocho','ShinjiroRengoku','JigoroKuwajima','TengenUzui']\n",
    "reverse = sorted(retiredHashira, reverse = True) #reverse = True sorts a list in decensing order\n",
    "print(reverse)"
   ]
  },
  {
   "cell_type": "code",
   "execution_count": null,
   "id": "fb18eccd-93b7-45ef-a286-62f43ca26c3d",
   "metadata": {},
   "outputs": [],
   "source": []
  }
 ],
 "metadata": {
  "kernelspec": {
   "display_name": "Python 3 (ipykernel)",
   "language": "python",
   "name": "python3"
  },
  "language_info": {
   "codemirror_mode": {
    "name": "ipython",
    "version": 3
   },
   "file_extension": ".py",
   "mimetype": "text/x-python",
   "name": "python",
   "nbconvert_exporter": "python",
   "pygments_lexer": "ipython3",
   "version": "3.11.7"
  }
 },
 "nbformat": 4,
 "nbformat_minor": 5
}
