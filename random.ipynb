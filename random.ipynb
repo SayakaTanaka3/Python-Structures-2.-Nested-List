{
 "cells": [
  {
   "cell_type": "code",
   "execution_count": 1,
   "id": "40e32c40-785c-4827-a435-6a856e2a3fcd",
   "metadata": {},
   "outputs": [],
   "source": [
    "import random"
   ]
  },
  {
   "cell_type": "code",
   "execution_count": 20,
   "id": "6403a541-c197-42b4-a46c-a527dd9a1e12",
   "metadata": {},
   "outputs": [
    {
     "name": "stdout",
     "output_type": "stream",
     "text": [
      "Doma\n"
     ]
    }
   ],
   "source": [
    "demons= ['Muzan','Kokushibou', 'Doma', 'Akaza', 'Nakime', 'HanTengu', 'Gyokko', 'GyutaroDaki', 'Kaigaku',\\\n",
    "        'Rui',' Enmu', 'Ubume', 'Rokuro', 'Wakuraba', 'Mugago', 'Kamunue', 'Kyogai']\n",
    "\n",
    "def catch_demon(demons):\n",
    "    demon = random.choice(demons) #randomely choses something from the list\n",
    "    return demon\n",
    "\n",
    "print(catch_demon(demons))"
   ]
  },
  {
   "cell_type": "code",
   "execution_count": 13,
   "id": "504501fa-8627-4692-b39c-5d174dbf52ba",
   "metadata": {},
   "outputs": [
    {
     "name": "stdin",
     "output_type": "stream",
     "text": [
      "'r' for rock, 'p' for paper, 's' for scissors\n",
      " s\n"
     ]
    },
    {
     "name": "stdout",
     "output_type": "stream",
     "text": [
      "You won!\n"
     ]
    }
   ],
   "source": [
    "def play():\n",
    "    user = input (\"'r' for rock, 'p' for paper, 's' for scissors\\n\")\n",
    "    computer = random.choice(['r','p','s'])\n",
    "\n",
    "    if user == computer:\n",
    "        return 'It\\'s a tie'\n",
    "    # r>s, s>p, p>r\n",
    "    if is_win(user, computer):\n",
    "        return \"You won!\"\n",
    "        \n",
    "    return 'You lost!'\n",
    "\n",
    "def is_win(player, opponent):\n",
    "#return true if palyer wins\n",
    "    return (player == 'r' and opponent == 's') or\\\n",
    "    (player == 's' and opponent == 'p') or\\\n",
    "    (player == 'p' and opponent == 'r')\n",
    "\n",
    "print(play())\n"
   ]
  },
  {
   "cell_type": "code",
   "execution_count": 23,
   "id": "3ea5c251-ea5f-412e-add6-7d43c5498af4",
   "metadata": {},
   "outputs": [
    {
     "name": "stdout",
     "output_type": "stream",
     "text": [
      "Call Hashira for help!\n",
      "water\n"
     ]
    }
   ],
   "source": [
    "hashiras = ['flame', 'love', 'mist', 'rock', 'water', 'wind', 'snake', 'sound']\n",
    "print(\"Call Hashira for help!\")\n",
    "\n",
    "def call_help(hashiras):\n",
    "    hashira = random.choice(hashiras)\n",
    "    return hashira\n",
    "\n",
    "print(call_help(hashiras))"
   ]
  },
  {
   "cell_type": "code",
   "execution_count": null,
   "id": "95de67ca-1571-4233-bc55-514a6d217903",
   "metadata": {},
   "outputs": [],
   "source": []
  }
 ],
 "metadata": {
  "kernelspec": {
   "display_name": "Python 3 (ipykernel)",
   "language": "python",
   "name": "python3"
  },
  "language_info": {
   "codemirror_mode": {
    "name": "ipython",
    "version": 3
   },
   "file_extension": ".py",
   "mimetype": "text/x-python",
   "name": "python",
   "nbconvert_exporter": "python",
   "pygments_lexer": "ipython3",
   "version": "3.11.7"
  }
 },
 "nbformat": 4,
 "nbformat_minor": 5
}
